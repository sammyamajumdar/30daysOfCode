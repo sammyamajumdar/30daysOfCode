{
 "cells": [
  {
   "cell_type": "markdown",
   "metadata": {},
   "source": [
    "## Hackerrank 30 Days of Code"
   ]
  },
  {
   "cell_type": "markdown",
   "metadata": {},
   "source": [
    "## Day 0 : Hello, World"
   ]
  },
  {
   "cell_type": "code",
   "execution_count": null,
   "metadata": {},
   "outputs": [],
   "source": [
    "# Read a full line of input from stdin and save it to our dynamically typed variable, input_string.\n",
    "input_string = input()\n",
    "\n",
    "# Print a string literal saying \"Hello, World.\" to stdout.\n",
    "print('Hello, World.')\n",
    "print(input_string)\n",
    "# TODO: Write a line of code here that prints the contents of input_string to stdout.\n"
   ]
  },
  {
   "cell_type": "markdown",
   "metadata": {},
   "source": [
    "## Day 1 : Data Types"
   ]
  },
  {
   "cell_type": "code",
   "execution_count": null,
   "metadata": {},
   "outputs": [],
   "source": [
    "i = 4\n",
    "d = 4.0\n",
    "s = 'HackerRank '\n",
    "number = int(input())\n",
    "number2 = float(input())\n",
    "text = str(input())\n",
    "print(int(i + number))\n",
    "print(\"{0:.1f}\".format(number2+d))\n",
    "print(s + text)"
   ]
  },
  {
   "cell_type": "markdown",
   "metadata": {},
   "source": [
    "## Day 2 : Operators"
   ]
  },
  {
   "cell_type": "code",
   "execution_count": null,
   "metadata": {},
   "outputs": [],
   "source": [
    "mealCost = float(input())\n",
    "tipPercentage = float(input())\n",
    "taxPercentage = float(input())\n",
    "# total cost of the meal\n",
    "Cost = mealCost + (mealCost*(tipPercentage/100)) + (mealCost*(taxPercentage/100))\n",
    "# print the rounded value of the total Cost \n",
    "print(round(Cost))"
   ]
  },
  {
   "cell_type": "markdown",
   "metadata": {},
   "source": [
    "## Day 3 :  Intro to Conditional Statements"
   ]
  },
  {
   "cell_type": "code",
   "execution_count": null,
   "metadata": {},
   "outputs": [],
   "source": [
    "number = int(input())\n",
    "if (number%2 != 0) or (number >= 6 and number <= 20):\n",
    "    print(\"Weird\")\n",
    "else:\n",
    "    print(\"Not Weird\")"
   ]
  },
  {
   "cell_type": "markdown",
   "metadata": {},
   "source": [
    "## Day 4 : Class vs. Instance\n",
    "\n"
   ]
  },
  {
   "cell_type": "code",
   "execution_count": null,
   "metadata": {},
   "outputs": [],
   "source": [
    "class Person:\n",
    "    def __init__(self,initialAge):\n",
    "        self.initialAge = initialAge\n",
    "        if self.initialAge < 0:\n",
    "            print(\"Age is not valid, setting age to 0.\")\n",
    "            self.initialAge = 0\n",
    "        # Add some more code to run some checks on initialAge\n",
    "    def amIOld(self):\n",
    "        if self.initialAge < 13:\n",
    "            print(\"You are young.\")\n",
    "        elif self.initialAge >= 13 and self.initialAge < 18:\n",
    "            print(\"You are a teenager.\")\n",
    "        else:\n",
    "            print(\"You are old.\")\n",
    "        # Do some computations in here and print out the correct statement to the console\n",
    "    def yearPasses(self):\n",
    "        self.initialAge += 1\n",
    "        # Increment the age of the person in here\n",
    "t = int(input())\n",
    "for i in range(0, t):\n",
    "    age = int(input())         \n",
    "    p = Person(age)  \n",
    "    p.amIOld()\n",
    "    for j in range(0, 3):\n",
    "        p.yearPasses()       \n",
    "    p.amIOld()\n",
    "    print(\"\")"
   ]
  },
  {
   "cell_type": "markdown",
   "metadata": {},
   "source": [
    "## Day 5 : Loops"
   ]
  },
  {
   "cell_type": "code",
   "execution_count": null,
   "metadata": {},
   "outputs": [],
   "source": [
    "t = int(input())\n",
    "print(*[str(t) + \" x \" + str(i) + \" = \" + str(t*i) for i in range(1,11)], sep = \"\\n\")"
   ]
  },
  {
   "cell_type": "markdown",
   "metadata": {},
   "source": [
    "## Day 6 : Let's Review"
   ]
  },
  {
   "cell_type": "code",
   "execution_count": null,
   "metadata": {},
   "outputs": [],
   "source": [
    "for _ in range(int(input())):\n",
    "    text = str(input())\n",
    "    even = []\n",
    "    odd = []\n",
    "    for item in range(len(text)):\n",
    "        if item%2 == 0:\n",
    "            even.append(text[item])\n",
    "        else:\n",
    "            odd.append(text[item])\n",
    "    print(\"\".join(even), \"\".join(odd))"
   ]
  },
  {
   "cell_type": "markdown",
   "metadata": {},
   "source": [
    "## Day 7 : Arrays"
   ]
  },
  {
   "cell_type": "code",
   "execution_count": null,
   "metadata": {},
   "outputs": [],
   "source": [
    "t = int(input())\n",
    "print(*list(reversed(list(map(int,input().split())))), sep = \" \")"
   ]
  },
  {
   "cell_type": "markdown",
   "metadata": {},
   "source": [
    "## Day 8 : Dictionaries and Maps"
   ]
  },
  {
   "cell_type": "code",
   "execution_count": null,
   "metadata": {},
   "outputs": [],
   "source": [
    "phonebook = {}\n",
    "for i in range(int(input())):\n",
    "    x = input().split()\n",
    "    phonebook[x[0]] = x[1]\n",
    "try:\n",
    "    while True:\n",
    "        name = input()\n",
    "        if name in phonebook:\n",
    "            print(name + \"=\" + phonebook[name])\n",
    "        else:\n",
    "            print(\"Not found\")\n",
    "except EOFError:\n",
    "    pass"
   ]
  },
  {
   "cell_type": "markdown",
   "metadata": {},
   "source": [
    "## Day 9: Recursion 3"
   ]
  },
  {
   "cell_type": "code",
   "execution_count": null,
   "metadata": {},
   "outputs": [],
   "source": [
    "import math\n",
    "import os\n",
    "import random\n",
    "import re\n",
    "import sys\n",
    "\n",
    "# Complete the factorial function below.\n",
    "def factorial(n):\n",
    "    if n == 0 or n == 1:\n",
    "        return 1\n",
    "    else:\n",
    "        n =  n * factorial(n-1)\n",
    "        return n\n",
    "\n",
    "if __name__ == '__main__':\n",
    "    fptr = open(os.environ['OUTPUT_PATH'], 'w')\n",
    "\n",
    "    n = int(input())\n",
    "\n",
    "    result = factorial(n)\n",
    "\n",
    "    fptr.write(str(result) + '\\n')\n",
    "\n",
    "    fptr.close()"
   ]
  },
  {
   "cell_type": "markdown",
   "metadata": {},
   "source": [
    "## Day 10 : Binary Numbers "
   ]
  },
  {
   "cell_type": "code",
   "execution_count": null,
   "metadata": {},
   "outputs": [],
   "source": [
    "n = int(input().strip())\n",
    "print(max(len(length) for length in bin(n)[2:].split('0')))"
   ]
  },
  {
   "cell_type": "markdown",
   "metadata": {},
   "source": [
    "## Day 11 : 2D Arrays"
   ]
  },
  {
   "cell_type": "code",
   "execution_count": null,
   "metadata": {},
   "outputs": [],
   "source": [
    "import math\n",
    "import os\n",
    "import random\n",
    "import re\n",
    "import sys\n",
    "\n",
    "\n",
    "\n",
    "if __name__ == '__main__':\n",
    "    arr = []\n",
    "    result = []\n",
    "    for _ in range(6):\n",
    "        arr.append(list(map(int, input().rstrip().split())))\n",
    "    for i in range(4):\n",
    "        for j in  range(4):\n",
    "            x = arr[i][j] + arr[i][j+1] + arr[i][j+2] + arr[i+1][j+1] + arr[i+2][j] + arr[i+2][j+1] + arr[i+2][j+2]\n",
    "            result.append(x)\n",
    "\n",
    "    print(max(result))"
   ]
  },
  {
   "cell_type": "markdown",
   "metadata": {},
   "source": [
    "## Day 12 : Inheritance"
   ]
  },
  {
   "cell_type": "code",
   "execution_count": null,
   "metadata": {},
   "outputs": [],
   "source": [
    "class Person:\n",
    "\tdef __init__(self, firstName, lastName, idNumber):\n",
    "\t\tself.firstName = firstName\n",
    "\t\tself.lastName = lastName\n",
    "\t\tself.idNumber = idNumber\n",
    "\tdef printPerson(self):\n",
    "\t\tprint(\"Name:\", self.lastName + \",\", self.firstName)\n",
    "\t\tprint(\"ID:\", self.idNumber)\n",
    "\n",
    "class Student(Person):\n",
    "    def __init__(self, firstName, lastName, idNumber,scores):\n",
    "        Person.__init__(self, firstName, lastName, idNumber)\n",
    "        self.testscores = scores\n",
    "        def calculate(self):\n",
    "            average = 0\n",
    "            for i in self.testscores:\n",
    "                average += i\n",
    "            average = average/len(self.testscores)\n",
    "            if average >= 90: \n",
    "                return \"O\"\n",
    "            elif average >= 80 and average < 90:\n",
    "                return \"E\"\n",
    "            elif average >= 70 and average <80:\n",
    "                return \"A\"\n",
    "            elif average >= 55 and average <70:\n",
    "                return \"P\"\n",
    "            elif average >= 40 and average < 55:\n",
    "                return \"D\"\n",
    "            else:\n",
    "                return \"T\"\n",
    "\n",
    "    \n",
    "\n",
    "\n",
    "    #   Class Constructor\n",
    "    #   \n",
    "    #   Parameters:\n",
    "    #   firstName - A string denoting the Person's first name.\n",
    "    #   lastName - A string denoting the Person's last name.\n",
    "    #   id - An integer denoting the Person's ID number.\n",
    "    #   scores - An array of integers denoting the Person's test scores.\n",
    "    #\n",
    "    # Write your constructor here\n",
    "    \n",
    "\n",
    "    #   Function Name: calculate\n",
    "    #   Return: A character denoting the grade.\n",
    "    #\n",
    "    # Write your function here\n",
    "line = input().split()\n",
    "firstName = line[0]\n",
    "lastName = line[1]\n",
    "idNum = line[2]\n",
    "numScores = int(input()) # not needed for Python\n",
    "scores = list( map(int, input().split()) )\n",
    "s = Student(firstName, lastName, idNum, scores)\n",
    "s.printPerson()\n",
    "print(\"Grade:\", s.calculate())"
   ]
  },
  {
   "cell_type": "markdown",
   "metadata": {},
   "source": [
    "## Day 13 : Abstract Classes"
   ]
  },
  {
   "cell_type": "code",
   "execution_count": null,
   "metadata": {},
   "outputs": [],
   "source": [
    "from abc import ABCMeta, abstractmethod\n",
    "class Book(object, metaclass=ABCMeta):\n",
    "    def __init__(self,title,author):\n",
    "        self.title=title\n",
    "        self.author=author   \n",
    "    @abstractmethod\n",
    "    def display(): pass\n",
    "class MyBook(Book):\n",
    "    price = 0\n",
    "    def __init__(self, title,author, price):\n",
    "        super(Book, self).__init__()\n",
    "        self.price = price\n",
    "    def display(self):\n",
    "        print(\"Title: \" + title)\n",
    "        print(\"Author: \" + author)\n",
    "        print(\"Price: \" + str(price))\n",
    "#Write MyBook class\n",
    "\n",
    "title=input()\n",
    "author=input()\n",
    "price=int(input())\n",
    "new_novel=MyBook(title,author,price)\n",
    "new_novel.display()"
   ]
  },
  {
   "cell_type": "markdown",
   "metadata": {},
   "source": [
    "## Day 14 : Scope"
   ]
  },
  {
   "cell_type": "code",
   "execution_count": null,
   "metadata": {},
   "outputs": [],
   "source": [
    "class Difference:\n",
    "    def __init__(self, a):\n",
    "        self.__elements = a\n",
    "        self.maximumDifference = 0\n",
    "    def computeDifference(self):\n",
    "        x = 101\n",
    "        y = 0\n",
    "        for item in self.__elements:\n",
    "            if item < x:\n",
    "                x = item\n",
    "            if item > y:\n",
    "                y = item\n",
    "        self.maximumDifference = y - x \n",
    "\t# Add your code here\n",
    "\n",
    "# End of Difference class\n",
    "\n",
    "_ = input()\n",
    "a = [int(e) for e in input().split(' ')]\n",
    "\n",
    "d = Difference(a)\n",
    "d.computeDifference()\n",
    "\n",
    "print(d.maximumDifference)"
   ]
  },
  {
   "cell_type": "markdown",
   "metadata": {},
   "source": [
    "## Day 15 : Linked List"
   ]
  },
  {
   "cell_type": "code",
   "execution_count": null,
   "metadata": {},
   "outputs": [],
   "source": [
    "class Node:\n",
    "    def __init__(self,data):\n",
    "        self.data = data\n",
    "        self.next = None \n",
    "class Solution: \n",
    "    def display(self,head):\n",
    "        current = head\n",
    "        while current:\n",
    "            print(current.data,end=' ')\n",
    "            current = current.next\n",
    "\n",
    "    def insert(self,head,data): \n",
    "    #Complete this method\n",
    "        new_node = Node(data)\n",
    "        if head == None:\n",
    "\n",
    "            head = new_node\n",
    "            return head\n",
    "        current = head\n",
    "        while current.next:\n",
    "            current = current.next\n",
    "        current.next = new_node\n",
    "        return head \n",
    "mylist= Solution()\n",
    "T=int(input())\n",
    "head=None\n",
    "for i in range(T):\n",
    "    data=int(input())\n",
    "    head=mylist.insert(head,data)    \n",
    "mylist.display(head); \t  "
   ]
  },
  {
   "cell_type": "markdown",
   "metadata": {},
   "source": [
    "## Day 16 : Exceptions - String to Integer"
   ]
  },
  {
   "cell_type": "code",
   "execution_count": null,
   "metadata": {},
   "outputs": [],
   "source": [
    "try: print(int(input()))\n",
    "except: print(\"Bad String\")"
   ]
  },
  {
   "cell_type": "markdown",
   "metadata": {},
   "source": [
    "## Day 17 : More Exceptions"
   ]
  },
  {
   "cell_type": "code",
   "execution_count": null,
   "metadata": {},
   "outputs": [],
   "source": [
    "#Write your code here\n",
    "class Calculator:\n",
    "    def power(self,n,p):\n",
    "        self.n = n\n",
    "        self.p = p\n",
    "        if n<0 or p<0:\n",
    "            return \"n and p should be non-negative\"\n",
    "        else:\n",
    "            return n**p\n",
    "myCalculator=Calculator()\n",
    "T=int(input())\n",
    "for i in range(T):\n",
    "    n,p = map(int, input().split())\n",
    "    try:\n",
    "        ans=myCalculator.power(n,p)\n",
    "        print(ans)\n",
    "    except Exception as e:\n",
    "        print(e)   "
   ]
  },
  {
   "cell_type": "markdown",
   "metadata": {},
   "source": [
    "## Day 18 : Queues and Stacks"
   ]
  },
  {
   "cell_type": "code",
   "execution_count": null,
   "metadata": {},
   "outputs": [],
   "source": [
    "class Solution:\n",
    "    def __init__(self):\n",
    "        self.Stack = []\n",
    "        self.Queue = []\n",
    "    def pushCharacter(self,x):\n",
    "        self.Stack.append(x)\n",
    "    def popCharacter(self):\n",
    "        return self.Stack.pop()\n",
    "    def enqueueCharacter(self, x):\n",
    "        self.Queue.append(x)\n",
    "    def dequeueCharacter(self):\n",
    "        return self.Queue.pop(0)\n",
    "    # Write your code here"
   ]
  },
  {
   "cell_type": "markdown",
   "metadata": {},
   "source": [
    "## Day 19 : Interfaces"
   ]
  },
  {
   "cell_type": "code",
   "execution_count": null,
   "metadata": {},
   "outputs": [],
   "source": [
    "class AdvancedArithmetic(object):\n",
    "    def divisorSum(n):\n",
    "        raise NotImplementedError\n",
    "\n",
    "class Calculator(AdvancedArithmetic):\n",
    "    def divisorSum(self, n):\n",
    "        temp = []\n",
    "        for i in range(1, n+1):\n",
    "                if n%i == 0:\n",
    "                    temp.append(i)\n",
    "                return sum(temp)\n",
    "n = int(input())\n",
    "my_calculator = Calculator()\n",
    "s = my_calculator.divisorSum(n)\n",
    "print(\"I implemented: \" + type(my_calculator).__bases__[0].__name__)\n",
    "print(s)"
   ]
  },
  {
   "cell_type": "markdown",
   "metadata": {},
   "source": [
    "## Day 20 : Sorting"
   ]
  },
  {
   "cell_type": "code",
   "execution_count": null,
   "metadata": {},
   "outputs": [],
   "source": [
    "def bubbleSort(array):\n",
    "    t = len(array)\n",
    "    swaps = 0\n",
    "    for i in range(t):\n",
    "        for j in range(t-1):\n",
    "            if array[j] > array[j+1]:\n",
    "                array[j], array[j+1] = array[j+1],array[j]\n",
    "                swaps += 1\n",
    "        if swaps == 0:\n",
    "            break\n",
    "    return swaps, array[0], array[len(array)-1]\n",
    "\n",
    "N = int(input())\n",
    "arr = list(map(int, input().split()))\n",
    "x, y , z = bubbleSort(arr)\n",
    "print(\"Array is sorted in {} swaps.\".format(x))\n",
    "print(\"First Element: {}\".format(y))\n",
    "print(\"Last Element: {}\".format(z))"
   ]
  },
  {
   "cell_type": "markdown",
   "metadata": {},
   "source": [
    "## Day 21 : Generics\n",
    "NB. Code written in Java 8, because Python 3 doesn't support generics. "
   ]
  },
  {
   "cell_type": "code",
   "execution_count": null,
   "metadata": {},
   "outputs": [],
   "source": [
    "\n",
    "    /**\n",
    "    *    Method Name: printArray\n",
    "    *    Print each element of the generic array on a new line. Do not return anything.\n",
    "    *    @param A generic array\n",
    "    **/\n",
    "    \n",
    "    // Write your code here\n",
    "    public static <E> void printArray(E[] generic){\n",
    "    for(E element : generic){\n",
    "            System.out.println(element); \n",
    "    }\n",
    "    }\n",
    "    "
   ]
  },
  {
   "cell_type": "markdown",
   "metadata": {},
   "source": [
    "## Day 22 : Binary Search Trees"
   ]
  },
  {
   "cell_type": "code",
   "execution_count": null,
   "metadata": {},
   "outputs": [],
   "source": [
    "def getHeight(self,root):\n",
    "        if root:\n",
    "            leftDepth = self.getHeight(root.left)\n",
    "            rightDepth = self.getHeight(root.right)\n",
    "            \n",
    "            if leftDepth > rightDepth:\n",
    "                return leftDepth + 1\n",
    "            else: \n",
    "                return rightDepth + 1\n",
    "        else:\n",
    "            return -1"
   ]
  },
  {
   "cell_type": "markdown",
   "metadata": {},
   "source": [
    "## Day 23 : BST Level-Order Traversal"
   ]
  },
  {
   "cell_type": "code",
   "execution_count": null,
   "metadata": {},
   "outputs": [],
   "source": [
    "def levelOrder(self,root):\n",
    "        queue = [root] if root else []\n",
    "    \n",
    "        while queue:\n",
    "            node = queue.pop()\n",
    "            print(node.data, end=\" \")\n",
    "            \n",
    "            if node.left: queue.insert(0,node.left)\n",
    "            if node.right: queue.insert(0,node.right)"
   ]
  },
  {
   "cell_type": "markdown",
   "metadata": {},
   "source": [
    "## Day 24 : More Linked Lists"
   ]
  },
  {
   "cell_type": "code",
   "execution_count": null,
   "metadata": {},
   "outputs": [],
   "source": [
    "def removeDuplicates(self,head):\n",
    "        if head == None:\n",
    "            return head\n",
    "        new_head = head\n",
    "        while head.next:\n",
    "            if head.data == head.next.data:\n",
    "                head.next = head.next.next\n",
    "            else:\n",
    "                head = head.next\n",
    "        return new_head"
   ]
  },
  {
   "cell_type": "markdown",
   "metadata": {},
   "source": [
    "## Day 25 : Running time and Complexity"
   ]
  },
  {
   "cell_type": "code",
   "execution_count": null,
   "metadata": {},
   "outputs": [],
   "source": [
    "import math\n",
    "def isPrime(number):\n",
    "    if number == 2: return True\n",
    "    if number <= 1 or number%2 == 0:\n",
    "        return False\n",
    "    else:\n",
    "        for item in range(3,round(math.sqrt(number)+1)):\n",
    "            if number%item == 0:\n",
    "                return False\n",
    "            \n",
    "        return True\n",
    "\n",
    "for _ in range(int(input())):\n",
    "    x = int(input())\n",
    "    if isPrime(x):\n",
    "        print(\"Prime\")\n",
    "    else:\n",
    "        print(\"Not prime\")"
   ]
  },
  {
   "cell_type": "markdown",
   "metadata": {},
   "source": [
    "## Day 26 : Nested Logic"
   ]
  },
  {
   "cell_type": "code",
   "execution_count": null,
   "metadata": {},
   "outputs": [],
   "source": [
    "D, M, Y = map(int, input().split())\n",
    "De, Me, Ye = map(int, input().split())\n",
    "\n",
    "if Y <= Ye and M <= Me and (D <= De):\n",
    "    print(0)\n",
    "elif M>Me and D>De and Y<Ye:\n",
    "    print(0)\n",
    "elif Y == Ye and M > Me:\n",
    "    print(500*(M-Me))\n",
    "elif Y == Ye and M == Me and D != De:\n",
    "    print(15*(D-De))\n",
    "else:\n",
    "    print(10000)"
   ]
  },
  {
   "cell_type": "markdown",
   "metadata": {},
   "source": [
    "## Day 27 : Testing"
   ]
  },
  {
   "cell_type": "code",
   "execution_count": null,
   "metadata": {},
   "outputs": [],
   "source": [
    "def minimum_index(seq):\n",
    "    if len(seq) == 0:\n",
    "        raise ValueError(\"Cannot get the minimum value index from an empty sequence\")\n",
    "    min_idx = 0\n",
    "    for i in range(1, len(seq)):\n",
    "        if seq[i] < seq[min_idx]:\n",
    "            min_idx = i\n",
    "    return min_idx\n",
    "class TestDataEmptyArray(object):\n",
    "    \n",
    "    @staticmethod\n",
    "    def get_array():\n",
    "        return list()\n",
    "        # complete this function\n",
    "\n",
    "class TestDataUniqueValues(object):\n",
    "\n",
    "    @staticmethod\n",
    "    def get_array():\n",
    "         return [7,9,1,2,-7,10,22]\n",
    "\n",
    "        # complete this function\n",
    "\n",
    "    @staticmethod\n",
    "    def get_expected_result():\n",
    "          return 4\n",
    "\n",
    "        # complete this function\n",
    "\n",
    "class TestDataExactlyTwoDifferentMinimums(object):\n",
    "\n",
    "    @staticmethod\n",
    "    def get_array():\n",
    "        return [7,9,1,2,-7,10,22,-7]\n",
    "        # complete this function\n",
    "\n",
    "    @staticmethod\n",
    "    def get_expected_result():\n",
    "        return 4\n",
    "        # complete this function"
   ]
  },
  {
   "cell_type": "markdown",
   "metadata": {},
   "source": [
    "## Day 28 : RegEx, Patterns, and Intro to Databases\n"
   ]
  },
  {
   "cell_type": "code",
   "execution_count": null,
   "metadata": {},
   "outputs": [],
   "source": [
    "import re\n",
    "emails = re.compile(r\"^[a-z\\.]{1,20}@gmail.com$\")\n",
    "names = []\n",
    "for _ in range(int(input())):\n",
    "    name = input().split()\n",
    "    if re.search(emails, name[1]):\n",
    "        names.append(name[0])\n",
    "names = sorted(names)\n",
    "print(*names, sep = \"\\n\")"
   ]
  },
  {
   "cell_type": "markdown",
   "metadata": {},
   "source": [
    "### Day 29 : Bitwise AND"
   ]
  },
  {
   "cell_type": "code",
   "execution_count": null,
   "metadata": {},
   "outputs": [],
   "source": [
    "for _ in range(int(input())):\n",
    "    m,k = map(int, input().split())\n",
    "    print(k-1 if ((k-1)|k) <= m else k-2)"
   ]
  }
 ],
 "metadata": {
  "kernelspec": {
   "display_name": "Python 3",
   "language": "python",
   "name": "python3"
  },
  "language_info": {
   "codemirror_mode": {
    "name": "ipython",
    "version": 3
   },
   "file_extension": ".py",
   "mimetype": "text/x-python",
   "name": "python",
   "nbconvert_exporter": "python",
   "pygments_lexer": "ipython3",
   "version": "3.7.6"
  }
 },
 "nbformat": 4,
 "nbformat_minor": 4
}
